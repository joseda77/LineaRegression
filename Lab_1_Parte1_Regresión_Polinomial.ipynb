{
 "cells": [
  {
   "cell_type": "markdown",
   "metadata": {},
   "source": [
    "# Laboratorio 1 - Parte 1\n",
    "\n",
    "### Regresión polinomial múltiple\n",
    "\n",
    "### 2019 - I\n",
    "\n",
    "#### Profesor: Julián D. Arias Londoño\n",
    "#### julian.ariasl@udea.edu.co\n"
   ]
  },
  {
   "cell_type": "markdown",
   "metadata": {},
   "source": [
    "## Guía del laboratorio\n",
    "\n",
    "En este archivo va a encontrar tanto celdas de código como celdas de texto con las instrucciones para desarrollar el laboratorio.\n",
    "\n",
    "Lea atentamente las instrucciones entregadas en las celdas de texto correspondientes y proceda con la solución de las preguntas planteadas.\n",
    "\n",
    "Nota: no olvide ir ejecutando las celdas de código de arriba hacia abajo para que no tenga errores de importación de librerías o por falta de definición de variables."
   ]
  },
  {
   "cell_type": "code",
   "execution_count": 1,
   "metadata": {},
   "outputs": [
    {
     "ename": "ModuleNotFoundError",
     "evalue": "No module named 'apiclient'",
     "output_type": "error",
     "traceback": [
      "\u001b[1;31m---------------------------------------------------------------------------\u001b[0m",
      "\u001b[1;31mModuleNotFoundError\u001b[0m                       Traceback (most recent call last)",
      "\u001b[1;32m<ipython-input-1-fe77e66486fb>\u001b[0m in \u001b[0;36m<module>\u001b[1;34m\u001b[0m\n\u001b[0;32m      2\u001b[0m \u001b[1;32mfrom\u001b[0m \u001b[0mAutentication\u001b[0m \u001b[1;32mimport\u001b[0m \u001b[1;33m*\u001b[0m\u001b[1;31m#python 3\u001b[0m\u001b[1;33m\u001b[0m\u001b[1;33m\u001b[0m\u001b[0m\n\u001b[0;32m      3\u001b[0m \u001b[1;32mimport\u001b[0m \u001b[0minspect\u001b[0m\u001b[1;33m,\u001b[0m \u001b[0murllib\u001b[0m\u001b[1;33m\u001b[0m\u001b[1;33m\u001b[0m\u001b[0m\n\u001b[1;32m----> 4\u001b[1;33m \u001b[0mhtml\u001b[0m\u001b[1;33m,\u001b[0m \u001b[0mauth_code\u001b[0m\u001b[1;33m,\u001b[0m \u001b[0muserinfo\u001b[0m \u001b[1;33m=\u001b[0m \u001b[0mgoogle_authenticate\u001b[0m\u001b[1;33m(\u001b[0m\u001b[0mPORT_NUMBER\u001b[0m\u001b[1;33m=\u001b[0m\u001b[1;36m8888\u001b[0m\u001b[1;33m)\u001b[0m\u001b[1;33m\u001b[0m\u001b[1;33m\u001b[0m\u001b[0m\n\u001b[0m\u001b[0;32m      5\u001b[0m \u001b[0mhtml\u001b[0m\u001b[1;33m\u001b[0m\u001b[1;33m\u001b[0m\u001b[0m\n",
      "\u001b[1;32m~\\Documents\\Jupiter\\ML_IntroductoryCourse\\Labs\\Lab_1\\Autentication.py\u001b[0m in \u001b[0;36mgoogle_authenticate\u001b[1;34m(timeout, PORT_NUMBER)\u001b[0m\n\u001b[0;32m      2\u001b[0m \u001b[1;33m\u001b[0m\u001b[0m\n\u001b[0;32m      3\u001b[0m     \u001b[1;32mimport\u001b[0m \u001b[0mhttplib2\u001b[0m\u001b[1;33m\u001b[0m\u001b[1;33m\u001b[0m\u001b[0m\n\u001b[1;32m----> 4\u001b[1;33m     \u001b[1;32mfrom\u001b[0m \u001b[0mapiclient\u001b[0m \u001b[1;32mimport\u001b[0m \u001b[0mdiscovery\u001b[0m\u001b[1;33m\u001b[0m\u001b[1;33m\u001b[0m\u001b[0m\n\u001b[0m\u001b[0;32m      5\u001b[0m     \u001b[1;32mfrom\u001b[0m \u001b[0moauth2client\u001b[0m \u001b[1;32mimport\u001b[0m \u001b[0mclient\u001b[0m\u001b[1;33m\u001b[0m\u001b[1;33m\u001b[0m\u001b[0m\n\u001b[0;32m      6\u001b[0m     \u001b[1;32mfrom\u001b[0m \u001b[0moauth2client\u001b[0m\u001b[1;33m.\u001b[0m\u001b[0mfile\u001b[0m \u001b[1;32mimport\u001b[0m \u001b[0mStorage\u001b[0m\u001b[1;33m\u001b[0m\u001b[1;33m\u001b[0m\u001b[0m\n",
      "\u001b[1;31mModuleNotFoundError\u001b[0m: No module named 'apiclient'"
     ]
    }
   ],
   "source": [
    "#Tomado de https://github.com/rramosp/mooc-grader\n",
    "from Autentication import *#python 3\n",
    "import inspect, urllib\n",
    "html, auth_code, userinfo = google_authenticate(PORT_NUMBER=8888)\n",
    "html"
   ]
  },
  {
   "cell_type": "markdown",
   "metadata": {},
   "source": [
    "#### Segundo integrante:\n",
    "\n",
    "Nombre:\n"
   ]
  },
  {
   "cell_type": "code",
   "execution_count": 19,
   "metadata": {},
   "outputs": [],
   "source": [
    "import numpy as np\n",
    "import matplotlib.pyplot as plt\n",
    "from scipy import stats\n",
    "#Algunas advertencias que queremos evitar\n",
    "import warnings\n",
    "warnings.filterwarnings(\"always\")"
   ]
  },
  {
   "cell_type": "markdown",
   "metadata": {},
   "source": [
    "## Ejercicio 1: Contextualización del problema\n",
    "\n",
    "El problema de *regresión* que abordaremos consiste en predecir el valor de la humedad absoluta en el aire, a partir de varias variables sensadas en el aire (Para más información sobre la base de datos y la contextualización del problema, consulte: http://archive.ics.uci.edu/ml/datasets/air+quality). Ejecute la siguiente celda para cargar los datos."
   ]
  },
  {
   "cell_type": "code",
   "execution_count": 20,
   "metadata": {},
   "outputs": [],
   "source": [
    "#cargamos la bd que está en un archivo .data y ahora la podemos manejar de forma matricial\n",
    "db = np.loadtxt('DB/AirQuality.data',delimiter='\\t')  # Assuming tab-delimiter\n",
    "\n",
    "#Esta es la base de datos AirQuality del UCI Machine Learning Repository.\n",
    "X = db[:,0:12]\n",
    "Y = db[:,12]"
   ]
  },
  {
   "cell_type": "markdown",
   "metadata": {},
   "source": [
    "#### Responda:\n",
    "\n",
    "1.1 Cuántas muestras tiene la base de datos?: \n",
    "\n",
    "\n"
   ]
  },
  {
   "cell_type": "code",
   "execution_count": 22,
   "metadata": {},
   "outputs": [
    {
     "data": {
      "text/plain": [
       "9357"
      ]
     },
     "execution_count": 22,
     "metadata": {},
     "output_type": "execute_result"
    }
   ],
   "source": [
    "np.size(X,0)"
   ]
  },
  {
   "cell_type": "markdown",
   "metadata": {},
   "source": [
    "1.2 Cuántas caracteristicas tiene el problema?: \n",
    "\n"
   ]
  },
  {
   "cell_type": "code",
   "execution_count": 23,
   "metadata": {},
   "outputs": [
    {
     "data": {
      "text/plain": [
       "12"
      ]
     },
     "execution_count": 23,
     "metadata": {},
     "output_type": "execute_result"
    }
   ],
   "source": [
    "np.size(X,1)"
   ]
  },
  {
   "cell_type": "markdown",
   "metadata": {},
   "source": [
    "<b>Nota</b>: Agregue una celda en la cual incluya las líneas de código usadas para responder las preguntas."
   ]
  },
  {
   "cell_type": "markdown",
   "metadata": {},
   "source": [
    "## Ejercicio 2: Completar código \n",
    "\n",
    "Analice los siguientes métodos de la teoría vista para los modelos de *regresión polinomial múltiple*, tales como el error cuadrático medio (<font color='blue'>ECM</font>), modelo de regresión múltiple (<font color='blue'>regression</font>), potencia del polinomio (<font color='blue'>potenciaPolinomio</font>) y gradiente descendente. \n",
    "\n",
    "Una vez comprenda su funcionamiento proceda a realizar lo siguiente: \n",
    "1. Completar el código de la regla de actualización de los parámetros del algoritmo de <font color='blue'>gradiente_descedente</font>: \n",
    "\n",
    "$$w_j(iter) = w_j(iter-1) - \\eta \\frac{\\partial E(w)}{\\partial w_j}$$ \n",
    "\n",
    "2. Graficar el error cuadrático: Error cuadrático medio (ECM) vs. las iteraciones del algoritmo. La gráfica debe llevar título y los correspondientes nombres de los ejes, puedes consultar documentación [aquí](https://matplotlib.org/tutorials/introductory/pyplot.html)."
   ]
  },
  {
   "cell_type": "code",
   "execution_count": 73,
   "metadata": {},
   "outputs": [],
   "source": [
    "from __future__ import division\n",
    "\n",
    "#Error cuadrático medio (criterio para el modelo de regresión polinomial)\n",
    "def ECM(Y_est,Y):\n",
    "    N = np.size(Y)\n",
    "    ecm = np.sum((Y_est.reshape(N,1) - Y.reshape(N,1))**2)/(2*N)\n",
    "    return ecm \n",
    "\n",
    "#Modelo Regresión Múltiple\n",
    "def regression(X, W):\n",
    "    Yest = np.dot(X,W)    #con np.dot se realiza el producto matricial. Aquí X es dim [Nxd] y W es dim [dx1]\n",
    "    return Yest           #Esta variable contiene la salida de f(X,W)\n",
    "\n",
    "\n",
    "#Potencia de polinomio\n",
    "def potenciaPolinomio(X,grado):\n",
    "    X2 = X\n",
    "    \n",
    "    if grado != 1:\n",
    "        for i in range(2,grado+1):\n",
    "            Xadd = X**i\n",
    "            X2 = np.concatenate((X2, Xadd), axis=1)\n",
    "    \n",
    "    return X2\n",
    "\n",
    "\n",
    "\"\"\"Gradiente descendente para regresión lineal múltiple\n",
    "X: Matriz de datos extendida.\n",
    "W: Vector de parámetros del modelo\n",
    "eta: Taza de aprendizaje\n",
    "\"\"\"\n",
    "   \n",
    "def gradiente_descendente(X,Y,eta):\n",
    "     \n",
    "    #Extendemos la matriz de X para el parámetro independiente\n",
    "    unos = np.array([np.ones(np.size(X,0))])\n",
    "    #Concatenamos el vector de unos con la matriz X\n",
    "    X = np.concatenate((unos.T, X), axis=1)\n",
    "    X = X.reshape(np.size(X,0),np.size(X,1))\n",
    "    \n",
    "    Y = Y.reshape(np.size(Y), 1)\n",
    "    \n",
    "    #Tomamos el número de variables del problema\n",
    "    d = np.size(X,1)\n",
    "    \n",
    "    #Tomamos el número de muestras de la base de datos\n",
    "    N = np.size(X,0)\n",
    "    \n",
    "    \n",
    "    #Inicializamos el vector de parámetros \n",
    "    W = np.zeros((1,d))\n",
    "    W = W.reshape(np.size(W), 1)\n",
    "    \n",
    "    eta = eta\n",
    "    \n",
    "    iteraciones = 500\n",
    "    ecms = np.zeros(iteraciones)\n",
    "    c = eta*(1/N)\n",
    "\n",
    "    for iter in range(iteraciones):\n",
    "        error = ECM(regression(X,W),Y)\n",
    "        ecms[iter] = error\n",
    "        \n",
    "        #Aquí debe completar el código con la regla de actualización de los parámetros W. \n",
    "        #Tenga en cuenta los nombres de las variables ya creadas: W, X, Y\n",
    "        for j in range(d):\n",
    "            x = X[:,j].reshape(len(X),1)\n",
    "            H = regression(X,W)\n",
    "            W[j] = W[j] - c * sum((H-Y)*x)            \n",
    "    print ('Vector de parámetros del modelo:\\n')\n",
    "    print (W)\n",
    "    print ('\\nError Final durante el entrenamiento = ' + str(ecms[-1]))\n",
    "    \n",
    "    #Aquí debe completar el código para realizar la gráfica de ecms vs. iteraciones\n",
    "    plt.scatter(list(range(iteraciones)),ecms)\n",
    "    plt.show()\n",
    "    \n",
    "    return W\n",
    "    "
   ]
  },
  {
   "cell_type": "code",
   "execution_count": 74,
   "metadata": {},
   "outputs": [
    {
     "name": "stderr",
     "output_type": "stream",
     "text": [
      "C:\\ProgramData\\Anaconda3\\lib\\site-packages\\ipykernel_launcher.py:6: RuntimeWarning: overflow encountered in square\n",
      "  \n",
      "C:\\ProgramData\\Anaconda3\\lib\\site-packages\\ipykernel_launcher.py:6: RuntimeWarning: overflow encountered in square\n",
      "  \n",
      "C:\\ProgramData\\Anaconda3\\lib\\site-packages\\ipykernel_launcher.py:6: RuntimeWarning: overflow encountered in square\n",
      "  \n",
      "C:\\ProgramData\\Anaconda3\\lib\\site-packages\\ipykernel_launcher.py:6: RuntimeWarning: overflow encountered in square\n",
      "  \n",
      "C:\\ProgramData\\Anaconda3\\lib\\site-packages\\ipykernel_launcher.py:6: RuntimeWarning: overflow encountered in square\n",
      "  \n",
      "C:\\ProgramData\\Anaconda3\\lib\\site-packages\\ipykernel_launcher.py:69: RuntimeWarning: overflow encountered in add\n",
      "C:\\ProgramData\\Anaconda3\\lib\\site-packages\\ipykernel_launcher.py:69: RuntimeWarning: invalid value encountered in add\n"
     ]
    },
    {
     "name": "stdout",
     "output_type": "stream",
     "text": [
      "Vector de parámetros del modelo:\n",
      "\n",
      "[[nan]\n",
      " [nan]\n",
      " [nan]\n",
      " [nan]\n",
      " [nan]\n",
      " [nan]\n",
      " [nan]\n",
      " [nan]\n",
      " [nan]\n",
      " [nan]\n",
      " [nan]\n",
      " [nan]\n",
      " [nan]]\n",
      "\n",
      "Error Final durante el entrenamiento = nan\n"
     ]
    },
    {
     "data": {
      "image/png": "[encoded data removed]",
      "text/plain": [
       "<Figure size 432x288 with 1 Axes>"
      ]
     },
     "metadata": {
      "needs_background": "light"
     },
     "output_type": "display_data"
    },
    {
     "data": {
      "text/plain": [
       "array([[nan],\n",
       "       [nan],\n",
       "       [nan],\n",
       "       [nan],\n",
       "       [nan],\n",
       "       [nan],\n",
       "       [nan],\n",
       "       [nan],\n",
       "       [nan],\n",
       "       [nan],\n",
       "       [nan],\n",
       "       [nan],\n",
       "       [nan]])"
      ]
     },
     "execution_count": 74,
     "metadata": {},
     "output_type": "execute_result"
    }
   ],
   "source": [
    "gradiente_descendente(X,Y,0.01)"
   ]
  },
  {
   "cell_type": "markdown",
   "metadata": {},
   "source": [
    "## Ejercicio 3: Entrenamiento\n",
    "\n",
    "En este punto debe hacer uso de las funciones escritas en el punto anterior para realizar el proceso de *modelamiento y simulación* de los datos de cargados en el Ejercicio # 1 sobre la predicción del valor de la humedad absoluta en el aire \n",
    "\n",
    "A continuación complete el siguiente código llamando a la función <font color='blue'>gradiente_descedente</font> pasandole los parámetros correspondientes (X,y,eta). Debe obtener como salida el vector de parámetros $w$ estimado y la gráfica del error cuadrático medio vs iteraciones.\n",
    "\n",
    "*Nota*: No olvide definir el grado del polinomio y la taza de aprendizaje (eta)"
   ]
  },
  {
   "cell_type": "code",
   "execution_count": 75,
   "metadata": {},
   "outputs": [
    {
     "name": "stdout",
     "output_type": "stream",
     "text": [
      "Vector de parámetros del modelo:\n",
      "\n",
      "[[-0.03558286]\n",
      " [-0.007918  ]\n",
      " [ 0.15133842]\n",
      " [ 0.00093364]\n",
      " [ 0.1928634 ]\n",
      " [ 0.12758654]\n",
      " [-0.01766559]\n",
      " [ 0.12402929]\n",
      " [-0.0109535 ]\n",
      " [ 0.13628699]\n",
      " [ 0.10329179]\n",
      " [ 0.1922855 ]\n",
      " [ 0.18535403]]\n",
      "\n",
      "Error Final durante el entrenamiento = 774.0552893900309\n"
     ]
    },
    {
     "data": {
      "image/png": "[encoded data removed]",
      "text/plain": [
       "<Figure size 432x288 with 1 Axes>"
      ]
     },
     "metadata": {
      "needs_background": "light"
     },
     "output_type": "display_data"
    },
    {
     "name": "stdout",
     "output_type": "stream",
     "text": [
      "\n",
      "Error durante la prueba = 703.3760212663899\n"
     ]
    }
   ],
   "source": [
    "from numpy import random, matlib\n",
    "import math\n",
    "\n",
    "N = np.size(X,0)\n",
    "\n",
    "# #Se modifica la matriz de datos original de acuerdo al grado del polinomio ingresado para el modelo\n",
    "grado = 1\n",
    "X2 = potenciaPolinomio(X,grado)\n",
    "\n",
    "#Dejamos algunas muestras para el proceso de entrenamiento y otras para evaluar qué tan bueno fue el aprendizaje del modelo\n",
    "random.seed(1)\n",
    "ind=np.random.permutation(N)\n",
    "Xtrain = X2[ind[0:int(math.ceil(0.7*N))],:]\n",
    "Xtest = X2[ind[int(math.ceil(0.7*N)):N],:]\n",
    "Ytrain = Y[ind[0:int(math.ceil(0.7*N))]]\n",
    "Ytest = Y[ind[int(math.ceil(0.7*N)):N]]\n",
    "\n",
    "#Normalizamos los datos\n",
    "media = np.mean(Xtrain)\n",
    "desvia = np.std(Xtrain)\n",
    "Xtrain = stats.stats.zscore(Xtrain)\n",
    "Xtest = (Xtest - np.matlib.repmat(media, Xtest.shape[0], 1))/np.matlib.repmat(desvia, Xtest.shape[0], 1)\n",
    "\n",
    "eta = 0.00001\n",
    "\n",
    "#Complete la siguiente línea de código llamando el método gradiente_descendente con sus respectivos argumentos\n",
    "W = gradiente_descendente(Xtrain,Ytrain,eta)\n",
    "\n",
    "#Evaluamos las predicciones del modelo con los datos de test\n",
    "unos = np.array([np.ones(np.size(Xtest,0))])\n",
    "Xtest = np.concatenate((unos.T, Xtest), axis=1)\n",
    "Xtest = Xtest.reshape(np.size(Xtest,0),np.size(Xtest,1))\n",
    "Yest = regression(Xtest, W)\n",
    "Error = ECM(Yest,Ytest)\n",
    "print ('\\nError durante la prueba = ' + str(Error))"
   ]
  },
  {
   "cell_type": "markdown",
   "metadata": {},
   "source": [
    "#### Responda:\n",
    "\n",
    "3.1 ¿Cuál es el número de coeficientes $w$ que se obtienen al ingresar un polinomio de grado 4? ¿Por qué?:\n",
    "\n"
   ]
  },
  {
   "cell_type": "code",
   "execution_count": 79,
   "metadata": {},
   "outputs": [
    {
     "data": {
      "text/plain": [
       "49"
      ]
     },
     "execution_count": 79,
     "metadata": {},
     "output_type": "execute_result"
    }
   ],
   "source": [
    "np.size(potenciaPolinomio(X,4),1)+1"
   ]
  },
  {
   "cell_type": "markdown",
   "metadata": {},
   "source": [
    "3.2 La funci&oacute;n polin&oacute;mica que se est&aacute; usando para grados mayores a 1\n",
    "est&aacute; incompleta, ¿Por qu&eacute;?:"
   ]
  },
  {
   "cell_type": "markdown",
   "metadata": {},
   "source": []
  },
  {
   "cell_type": "markdown",
   "metadata": {},
   "source": [
    "## Ejercicio 4: Obtener resultados\n",
    "\n",
    "Identifique la variable \"eta\" (tasa de aprendizaje $\\eta$) en el código anterior, cambie su valor de acuerdo a la siguiente tabla. Haga lo mismo con el valor del grado del polinomio y complete las columnas ECM_Entrenamiento y ECM_Prueba.\n",
    "\n",
    "Tenga en cuenta que cuando el valor de $\\eta$ sea $0.00001$ y el grado del polinomio sea $1$, el valor del ECM de prueba debe ser $703.376$. Esto le servirá de criterio de verificación para la implementación de su algorítmo de gradiente descendente.\n"
   ]
  },
  {
   "cell_type": "code",
   "execution_count": 88,
   "metadata": {},
   "outputs": [
    {
     "data": {
      "application/vnd.jupyter.widget-view+json": {
       "model_id": "db390ecbe4f247ddb2244eed2f5a8442",
       "version_major": 2,
       "version_minor": 0
      },
      "text/plain": [
       "QgridWidget(grid_options={'fullWidthRows': True, 'syncColumnCellResize': True, 'forceFitColumns': True, 'defau…"
      ]
     },
     "metadata": {},
     "output_type": "display_data"
    }
   ],
   "source": [
    "import numpy as np\n",
    "import pandas as pd\n",
    "import qgrid\n",
    "randn = np.random.randn\n",
    "df_types = pd.DataFrame({\n",
    "    'Tasa de aprendizaje' : pd.Series(['1e-5', '1e-5', '1e-5', '1e-5', '1e-5', '1e-3', '1e-3', '1e-3', '1e-3', '1e-3', '1e-1', '1e-1', '1e-1', '1e-1', '1e-1']),\n",
    "    'Grado del polinomio' : pd.Series([1,2,3,4,5,1,2,3,4,5,1,2,3,4,5])})\n",
    "df_types[\"ECM_Entrenamiento\"] = \"\"\n",
    "df_types[\"ECM_Prueba\"] = \"\"\n",
    "df_types.set_index(['Tasa de aprendizaje','Grado del polinomio'], inplace=True)\n",
    "df_types[\"ECM_Entrenamiento\"][0] = \"774.055\"\n",
    "df_types[\"ECM_Prueba\"][0] = \"703.376\"\n",
    "#df_types.sort_index(inplace=True)\n",
    "qgrid_widget = qgrid.show_grid(df_types, show_toolbar=False)\n",
    "qgrid_widget"
   ]
  },
  {
   "cell_type": "code",
   "execution_count": 94,
   "metadata": {},
   "outputs": [
    {
     "name": "stdout",
     "output_type": "stream",
     "text": [
      "############# La posición en el vector es.. 0\n",
      "############# El valor es 1\n",
      "Vector de parámetros del modelo:\n",
      "\n",
      "[[-0.03558286]\n",
      " [-0.007918  ]\n",
      " [ 0.15133842]\n",
      " [ 0.00093364]\n",
      " [ 0.1928634 ]\n",
      " [ 0.12758654]\n",
      " [-0.01766559]\n",
      " [ 0.12402929]\n",
      " [-0.0109535 ]\n",
      " [ 0.13628699]\n",
      " [ 0.10329179]\n",
      " [ 0.1922855 ]\n",
      " [ 0.18535403]]\n",
      "\n",
      "Error Final durante el entrenamiento = 774.0552893900309\n"
     ]
    },
    {
     "data": {
      "image/png": "[encoded data removed]",
      "text/plain": [
       "<Figure size 432x288 with 1 Axes>"
      ]
     },
     "metadata": {
      "needs_background": "light"
     },
     "output_type": "display_data"
    },
    {
     "name": "stdout",
     "output_type": "stream",
     "text": [
      "\n",
      "Error durante la prueba = 703.3760212663899\n",
      "############# La posición en el vector es.. 1\n",
      "############# El valor es 2\n",
      "Vector de parámetros del modelo:\n",
      "\n",
      "[[-0.03558286]\n",
      " [-0.0078588 ]\n",
      " [ 0.14977092]\n",
      " [ 0.00078975]\n",
      " [ 0.19110736]\n",
      " [ 0.12616532]\n",
      " [-0.01766514]\n",
      " [ 0.12313504]\n",
      " [-0.01094828]\n",
      " [ 0.13482475]\n",
      " [ 0.10208922]\n",
      " [ 0.19057981]\n",
      " [ 0.18376591]\n",
      " [ 0.00762191]\n",
      " [ 0.08306326]\n",
      " [ 0.00191657]\n",
      " [-0.19414509]\n",
      " [ 0.06058994]\n",
      " [-0.02324256]\n",
      " [ 0.05359599]\n",
      " [-0.01135703]\n",
      " [ 0.0753644 ]\n",
      " [ 0.04648964]\n",
      " [-0.19397525]\n",
      " [-0.18922125]]\n",
      "\n",
      "Error Final durante el entrenamiento = 748.188608839837\n"
     ]
    },
    {
     "data": {
      "image/png": "[encoded data removed]",
      "text/plain": [
       "<Figure size 432x288 with 1 Axes>"
      ]
     },
     "metadata": {
      "needs_background": "light"
     },
     "output_type": "display_data"
    },
    {
     "name": "stdout",
     "output_type": "stream",
     "text": [
      "\n",
      "Error durante la prueba = 709.8818828072049\n",
      "############# La posición en el vector es.. 2\n",
      "############# El valor es 3\n",
      "Vector de parámetros del modelo:\n",
      "\n",
      "[[-0.03558286]\n",
      " [-0.00775956]\n",
      " [ 0.14837662]\n",
      " [ 0.00069346]\n",
      " [ 0.18951003]\n",
      " [ 0.12492993]\n",
      " [-0.01760674]\n",
      " [ 0.12227278]\n",
      " [-0.01086333]\n",
      " [ 0.13353608]\n",
      " [ 0.10104174]\n",
      " [ 0.18903023]\n",
      " [ 0.18226714]\n",
      " [ 0.00752045]\n",
      " [ 0.08211906]\n",
      " [ 0.00179212]\n",
      " [-0.19258622]\n",
      " [ 0.05981162]\n",
      " [-0.02317546]\n",
      " [ 0.05328375]\n",
      " [-0.01135312]\n",
      " [ 0.07448312]\n",
      " [ 0.04584576]\n",
      " [-0.19240948]\n",
      " [-0.18770131]\n",
      " [-0.00752786]\n",
      " [ 0.0566144 ]\n",
      " [ 0.00227079]\n",
      " [ 0.19263166]\n",
      " [ 0.04095326]\n",
      " [-0.02405214]\n",
      " [ 0.03330986]\n",
      " [-0.01666044]\n",
      " [ 0.05169631]\n",
      " [ 0.03107224]\n",
      " [ 0.1926374 ]\n",
      " [ 0.19192376]]\n",
      "\n",
      "Error Final durante el entrenamiento = 724.9932316211654\n"
     ]
    },
    {
     "data": {
      "image/png": "[encoded data removed]",
      "text/plain": [
       "<Figure size 432x288 with 1 Axes>"
      ]
     },
     "metadata": {
      "needs_background": "light"
     },
     "output_type": "display_data"
    },
    {
     "name": "stdout",
     "output_type": "stream",
     "text": [
      "\n",
      "Error durante la prueba = 709.8473166611931\n",
      "############# La posición en el vector es.. 3\n",
      "############# El valor es 4\n",
      "Vector de parámetros del modelo:\n",
      "\n",
      "[[-0.03558286]\n",
      " [-0.00770229]\n",
      " [ 0.14710027]\n",
      " [ 0.00061687]\n",
      " [ 0.18800495]\n",
      " [ 0.12380949]\n",
      " [-0.01754941]\n",
      " [ 0.12141573]\n",
      " [-0.01082283]\n",
      " [ 0.1323664 ]\n",
      " [ 0.10010586]\n",
      " [ 0.18755844]\n",
      " [ 0.18086039]\n",
      " [ 0.00746216]\n",
      " [ 0.08129163]\n",
      " [ 0.00169143]\n",
      " [-0.19110281]\n",
      " [ 0.05914122]\n",
      " [-0.02307083]\n",
      " [ 0.0529507 ]\n",
      " [-0.01128965]\n",
      " [ 0.07371542]\n",
      " [ 0.0453016 ]\n",
      " [-0.1909218 ]\n",
      " [-0.18624459]\n",
      " [-0.00746961]\n",
      " [ 0.05596617]\n",
      " [ 0.00217267]\n",
      " [ 0.19113963]\n",
      " [ 0.04041464]\n",
      " [-0.02392461]\n",
      " [ 0.03310126]\n",
      " [-0.01657175]\n",
      " [ 0.05108423]\n",
      " [ 0.03063649]\n",
      " [ 0.19114632]\n",
      " [ 0.19044036]\n",
      " [ 0.00746896]\n",
      " [ 0.03974009]\n",
      " [ 0.00194375]\n",
      " [-0.19114414]\n",
      " [ 0.02815776]\n",
      " [-0.02271783]\n",
      " [ 0.02002021]\n",
      " [-0.01553603]\n",
      " [ 0.0368486 ]\n",
      " [ 0.02175604]\n",
      " [-0.19113991]\n",
      " [-0.19100495]]\n",
      "\n",
      "Error Final durante el entrenamiento = 703.4164395673165\n"
     ]
    },
    {
     "data": {
      "image/png": "[encoded data removed]",
      "text/plain": [
       "<Figure size 432x288 with 1 Axes>"
      ]
     },
     "metadata": {
      "needs_background": "light"
     },
     "output_type": "display_data"
    },
    {
     "name": "stdout",
     "output_type": "stream",
     "text": [
      "\n",
      "Error durante la prueba = 711.3701531480207\n",
      "############# La posición en el vector es.. 4\n",
      "############# El valor es 5\n",
      "Vector de parámetros del modelo:\n",
      "\n",
      "[[-0.03558286]\n",
      " [-0.00760705]\n",
      " [ 0.14589786]\n",
      " [ 0.00056715]\n",
      " [ 0.18655251]\n",
      " [ 0.12276765]\n",
      " [-0.01743513]\n",
      " [ 0.12055244]\n",
      " [-0.01071868]\n",
      " [ 0.13126729]\n",
      " [ 0.09924383]\n",
      " [ 0.18613117]\n",
      " [ 0.17948474]\n",
      " [ 0.00736681]\n",
      " [ 0.08054284]\n",
      " [ 0.00161585]\n",
      " [-0.18965851]\n",
      " [ 0.05854988]\n",
      " [-0.02293767]\n",
      " [ 0.05259859]\n",
      " [-0.01124715]\n",
      " [ 0.07302068]\n",
      " [ 0.04482911]\n",
      " [-0.1894743 ]\n",
      " [-0.18483381]\n",
      " [-0.00737427]\n",
      " [ 0.05539448]\n",
      " [ 0.00209764]\n",
      " [ 0.18968896]\n",
      " [ 0.03995154]\n",
      " [-0.02377106]\n",
      " [ 0.0328791 ]\n",
      " [-0.01642314]\n",
      " [ 0.05054398]\n",
      " [ 0.03026878]\n",
      " [ 0.18969646]\n",
      " [ 0.18899547]\n",
      " [ 0.00737363]\n",
      " [ 0.03928286]\n",
      " [ 0.00187675]\n",
      " [-0.18969451]\n",
      " [ 0.0277814 ]\n",
      " [-0.02256491]\n",
      " [ 0.01987918]\n",
      " [-0.01543856]\n",
      " [ 0.03640629]\n",
      " [ 0.02145612]\n",
      " [-0.18969015]\n",
      " [-0.18955629]\n",
      " [-0.0073734 ]\n",
      " [ 0.02929809]\n",
      " [ 0.00156176]\n",
      " [ 0.1896872 ]\n",
      " [ 0.02028673]\n",
      " [-0.02050443]\n",
      " [ 0.01242454]\n",
      " [-0.02096164]\n",
      " [ 0.02714186]\n",
      " [ 0.01617222]\n",
      " [ 0.18968557]\n",
      " [ 0.18966803]]\n",
      "\n",
      "Error Final durante el entrenamiento = 682.8547732453626\n"
     ]
    },
    {
     "data": {
      "image/png": "[encoded data removed]",
      "text/plain": [
       "<Figure size 432x288 with 1 Axes>"
      ]
     },
     "metadata": {
      "needs_background": "light"
     },
     "output_type": "display_data"
    },
    {
     "name": "stdout",
     "output_type": "stream",
     "text": [
      "\n",
      "Error durante la prueba = 711.4026416401626\n",
      "############# La posición en el vector es.. 0\n",
      "############# El valor es 1\n",
      "Vector de parámetros del modelo:\n",
      "\n",
      "[[-2.80822753e+00]\n",
      " [ 3.73300422e-03]\n",
      " [ 4.51650687e+00]\n",
      " [-5.89425194e-01]\n",
      " [ 7.24723490e+00]\n",
      " [ 3.23669301e+00]\n",
      " [-1.32872626e+00]\n",
      " [ 6.08924898e+00]\n",
      " [-3.80833662e-01]\n",
      " [ 3.54872142e+00]\n",
      " [ 2.24844715e+00]\n",
      " [ 7.48311337e+00]\n",
      " [ 7.22124644e+00]]\n",
      "\n",
      "Error Final durante el entrenamiento = 47.41004951305847\n"
     ]
    },
    {
     "data": {
      "image/png": "[encoded data removed]",
      "text/plain": [
       "<Figure size 432x288 with 1 Axes>"
      ]
     },
     "metadata": {
      "needs_background": "light"
     },
     "output_type": "display_data"
    },
    {
     "name": "stdout",
     "output_type": "stream",
     "text": [
      "\n",
      "Error durante la prueba = 432.36244848825163\n",
      "############# La posición en el vector es.. 1\n",
      "############# El valor es 2\n",
      "Vector de parámetros del modelo:\n",
      "\n",
      "[[-2.80822753]\n",
      " [ 0.01426294]\n",
      " [ 2.90646342]\n",
      " [-0.57402285]\n",
      " [ 4.69392766]\n",
      " [ 2.04107528]\n",
      " [-0.67410946]\n",
      " [ 3.7365476 ]\n",
      " [-0.22484935]\n",
      " [ 2.12510508]\n",
      " [ 1.49930314]\n",
      " [ 4.81772016]\n",
      " [ 4.8113992 ]\n",
      " [-0.04278061]\n",
      " [ 0.68361677]\n",
      " [-0.38618898]\n",
      " [-5.10586465]\n",
      " [-0.05938477]\n",
      " [-0.97903186]\n",
      " [ 1.78900404]\n",
      " [-0.52256416]\n",
      " [ 0.1381556 ]\n",
      " [-0.16158724]\n",
      " [-5.07165122]\n",
      " [-4.8933602 ]]\n",
      "\n",
      "Error Final durante el entrenamiento = 19.415418172690604\n"
     ]
    },
    {
     "data": {
      "image/png": "[encoded data removed]",
      "text/plain": [
       "<Figure size 432x288 with 1 Axes>"
      ]
     },
     "metadata": {
      "needs_background": "light"
     },
     "output_type": "display_data"
    },
    {
     "name": "stdout",
     "output_type": "stream",
     "text": [
      "\n",
      "Error durante la prueba = 666.8547928838403\n",
      "############# La posición en el vector es.. 2\n",
      "############# El valor es 3\n",
      "Vector de parámetros del modelo:\n",
      "\n",
      "[[-2.80822753]\n",
      " [ 0.05335775]\n",
      " [ 2.1814402 ]\n",
      " [-0.44182523]\n",
      " [ 3.46772288]\n",
      " [ 1.57668082]\n",
      " [-0.3432258 ]\n",
      " [ 2.60303823]\n",
      " [-0.05083187]\n",
      " [ 1.58067803]\n",
      " [ 1.18593415]\n",
      " [ 3.55364939]\n",
      " [ 3.5083606 ]\n",
      " [-0.07214141]\n",
      " [ 0.55893548]\n",
      " [-0.22979097]\n",
      " [-3.75413697]\n",
      " [ 0.03799979]\n",
      " [-0.54914791]\n",
      " [ 1.11072209]\n",
      " [-0.30842582]\n",
      " [ 0.11887844]\n",
      " [-0.02941477]\n",
      " [-3.72841268]\n",
      " [-3.62202088]\n",
      " [ 0.07190785]\n",
      " [-0.0088981 ]\n",
      " [-0.22023412]\n",
      " [ 3.70272907]\n",
      " [-0.37034141]\n",
      " [-0.50692196]\n",
      " [ 0.52360713]\n",
      " [-0.13019249]\n",
      " [-0.37677694]\n",
      " [-0.30538749]\n",
      " [ 3.70245211]\n",
      " [ 3.68717225]]\n",
      "\n",
      "Error Final durante el entrenamiento = 13.54217208361975\n"
     ]
    },
    {
     "data": {
      "image/png": "[encoded data removed]",
      "text/plain": [
       "<Figure size 432x288 with 1 Axes>"
      ]
     },
     "metadata": {
      "needs_background": "light"
     },
     "output_type": "display_data"
    },
    {
     "name": "stdout",
     "output_type": "stream",
     "text": [
      "\n",
      "Error durante la prueba = 715.0872818014203\n",
      "############# La posición en el vector es.. 3\n",
      "############# El valor es 4\n",
      "Vector de parámetros del modelo:\n",
      "\n",
      "[[-2.80822753]\n",
      " [ 0.02473805]\n",
      " [ 1.75317938]\n",
      " [-0.35323001]\n",
      " [ 2.73785348]\n",
      " [ 1.28856773]\n",
      " [-0.22151466]\n",
      " [ 1.98638409]\n",
      " [-0.0529329 ]\n",
      " [ 1.28341579]\n",
      " [ 0.98735587]\n",
      " [ 2.79207655]\n",
      " [ 2.7700259 ]\n",
      " [-0.03795072]\n",
      " [ 0.5011277 ]\n",
      " [-0.14489096]\n",
      " [-2.94613522]\n",
      " [ 0.10275289]\n",
      " [-0.3120284 ]\n",
      " [ 0.80000456]\n",
      " [-0.15366702]\n",
      " [ 0.15101171]\n",
      " [ 0.05172952]\n",
      " [-2.92898385]\n",
      " [-2.83558632]\n",
      " [ 0.0378559 ]\n",
      " [ 0.06477084]\n",
      " [-0.13897675]\n",
      " [ 2.90945508]\n",
      " [-0.20566819]\n",
      " [-0.2667874 ]\n",
      " [ 0.33622123]\n",
      " [-0.08054567]\n",
      " [-0.23179949]\n",
      " [-0.15329872]\n",
      " [ 2.90859326]\n",
      " [ 2.9004466 ]\n",
      " [-0.03827108]\n",
      " [-0.18940805]\n",
      " [-0.07073579]\n",
      " [-2.90520988]\n",
      " [-0.36680645]\n",
      " [-0.21285724]\n",
      " [ 0.01323055]\n",
      " [-0.1340009 ]\n",
      " [-0.43390832]\n",
      " [-0.23618038]\n",
      " [-2.90206135]\n",
      " [-2.89487173]]\n",
      "\n",
      "Error Final durante el entrenamiento = 11.35418136760518\n"
     ]
    },
    {
     "data": {
      "image/png": "[encoded data removed]",
      "text/plain": [
       "<Figure size 432x288 with 1 Axes>"
      ]
     },
     "metadata": {
      "needs_background": "light"
     },
     "output_type": "display_data"
    },
    {
     "name": "stdout",
     "output_type": "stream",
     "text": [
      "\n",
      "Error durante la prueba = 716.5566416177581\n",
      "############# La posición en el vector es.. 4\n",
      "############# El valor es 5\n",
      "Vector de parámetros del modelo:\n",
      "\n",
      "[[-2.80822753]\n",
      " [ 0.01752597]\n",
      " [ 1.45704393]\n",
      " [-0.28693783]\n",
      " [ 2.25705716]\n",
      " [ 1.08328728]\n",
      " [-0.1585305 ]\n",
      " [ 1.62097048]\n",
      " [-0.03170152]\n",
      " [ 1.08537883]\n",
      " [ 0.82954858]\n",
      " [ 2.29755333]\n",
      " [ 2.27286872]\n",
      " [-0.02763263]\n",
      " [ 0.44349726]\n",
      " [-0.09771782]\n",
      " [-2.41748369]\n",
      " [ 0.12827517]\n",
      " [-0.21002507]\n",
      " [ 0.64939394]\n",
      " [-0.11714449]\n",
      " [ 0.1726871 ]\n",
      " [ 0.07716954]\n",
      " [-2.40480485]\n",
      " [-2.33126533]\n",
      " [ 0.02759093]\n",
      " [ 0.09520905]\n",
      " [-0.09191341]\n",
      " [ 2.39017963]\n",
      " [-0.11098281]\n",
      " [-0.15795689]\n",
      " [ 0.27132127]\n",
      " [-0.04210232]\n",
      " [-0.13131124]\n",
      " [-0.07841028]\n",
      " [ 2.38907478]\n",
      " [ 2.38116098]\n",
      " [-0.02790481]\n",
      " [-0.10438827]\n",
      " [-0.03370103]\n",
      " [-2.38602752]\n",
      " [-0.23127251]\n",
      " [-0.10532614]\n",
      " [ 0.00709894]\n",
      " [-0.08627277]\n",
      " [-0.28924585]\n",
      " [-0.13632199]\n",
      " [-2.38351013]\n",
      " [-2.37813089]\n",
      " [ 0.02813011]\n",
      " [-0.20566261]\n",
      " [-0.01218636]\n",
      " [ 2.37857221]\n",
      " [-0.26892541]\n",
      " [-0.05780997]\n",
      " [-0.14544697]\n",
      " [-0.04105291]\n",
      " [-0.36351744]\n",
      " [-0.14114423]\n",
      " [ 2.37632896]\n",
      " [ 2.37436162]]\n",
      "\n",
      "Error Final durante el entrenamiento = 10.490959382417913\n"
     ]
    },
    {
     "data": {
      "image/png": "[encoded data removed]",
      "text/plain": [
       "<Figure size 432x288 with 1 Axes>"
      ]
     },
     "metadata": {
      "needs_background": "light"
     },
     "output_type": "display_data"
    },
    {
     "name": "stdout",
     "output_type": "stream",
     "text": [
      "\n",
      "Error durante la prueba = 711.3664458640579\n",
      "############# La posición en el vector es.. 0\n",
      "############# El valor es 1\n",
      "Vector de parámetros del modelo:\n",
      "\n",
      "[[-7.13434276]\n",
      " [-0.04011002]\n",
      " [ 1.27523388]\n",
      " [ 0.17765478]\n",
      " [16.67625037]\n",
      " [ 0.22661395]\n",
      " [-1.43414047]\n",
      " [ 1.5192288 ]\n",
      " [ 1.13787957]\n",
      " [-5.13791717]\n",
      " [ 0.03553166]\n",
      " [17.45184717]\n",
      " [ 7.89509033]]\n",
      "\n",
      "Error Final durante el entrenamiento = 0.9232194231915989\n"
     ]
    },
    {
     "data": {
      "image/png": "[encoded data removed]",
      "text/plain": [
       "<Figure size 432x288 with 1 Axes>"
      ]
     },
     "metadata": {
      "needs_background": "light"
     },
     "output_type": "display_data"
    },
    {
     "name": "stdout",
     "output_type": "stream",
     "text": [
      "\n",
      "Error durante la prueba = 1337.7484636331963\n",
      "############# La posición en el vector es.. 1\n",
      "############# El valor es 2\n",
      "Vector de parámetros del modelo:\n",
      "\n",
      "[[-7.13434276]\n",
      " [-0.07400147]\n",
      " [ 2.87692169]\n",
      " [-0.22481694]\n",
      " [ 7.72851919]\n",
      " [ 0.94943972]\n",
      " [-0.4057207 ]\n",
      " [ 2.81805872]\n",
      " [ 0.26105871]\n",
      " [ 0.32017528]\n",
      " [ 0.34154942]\n",
      " [ 6.17625873]\n",
      " [ 5.93978829]\n",
      " [-0.07569192]\n",
      " [-1.58676459]\n",
      " [ 0.18906272]\n",
      " [-6.12465562]\n",
      " [-1.00626941]\n",
      " [ 0.24208009]\n",
      " [-1.3980778 ]\n",
      " [-0.03271551]\n",
      " [-1.08586742]\n",
      " [-0.25412185]\n",
      " [-5.84185628]\n",
      " [-5.4160829 ]]\n",
      "\n",
      "Error Final durante el entrenamiento = 0.11058163357746002\n"
     ]
    },
    {
     "data": {
      "image/png": "[encoded data removed]",
      "text/plain": [
       "<Figure size 432x288 with 1 Axes>"
      ]
     },
     "metadata": {
      "needs_background": "light"
     },
     "output_type": "display_data"
    },
    {
     "name": "stdout",
     "output_type": "stream",
     "text": [
      "\n",
      "Error durante la prueba = 845.31989761889\n",
      "############# La posición en el vector es.. 2\n",
      "############# El valor es 3\n",
      "Vector de parámetros del modelo:\n",
      "\n",
      "[[-7.13434276e+00]\n",
      " [-9.35657426e-02]\n",
      " [ 2.38425221e+00]\n",
      " [-1.57820203e-01]\n",
      " [ 5.86727639e+00]\n",
      " [ 5.92782360e-01]\n",
      " [-7.40541489e-02]\n",
      " [ 1.85514098e+00]\n",
      " [-5.87770972e-02]\n",
      " [-7.59182537e-04]\n",
      " [ 1.42099205e-01]\n",
      " [ 4.89198782e+00]\n",
      " [ 4.28396476e+00]\n",
      " [-2.32352991e-02]\n",
      " [-8.44189875e-01]\n",
      " [ 2.56030528e-01]\n",
      " [-4.73843586e+00]\n",
      " [-9.89425606e-01]\n",
      " [-2.04524034e-02]\n",
      " [-4.90048688e-01]\n",
      " [-2.39105335e-02]\n",
      " [-9.92307093e-01]\n",
      " [-4.44442501e-01]\n",
      " [-4.49684261e+00]\n",
      " [-4.52700429e+00]\n",
      " [ 6.80558312e-02]\n",
      " [-4.93731596e-01]\n",
      " [-1.42257244e-01]\n",
      " [ 3.55343570e+00]\n",
      " [ 1.48350611e-01]\n",
      " [ 3.74756116e-02]\n",
      " [-3.88843252e-01]\n",
      " [ 1.34611132e-01]\n",
      " [ 5.17142068e-01]\n",
      " [ 3.99668116e-01]\n",
      " [ 3.14557211e+00]\n",
      " [ 2.52675144e+00]]\n",
      "\n",
      "Error Final durante el entrenamiento = 0.047965648474750315\n"
     ]
    },
    {
     "data": {
      "image/png": "[encoded data removed]",
      "text/plain": [
       "<Figure size 432x288 with 1 Axes>"
      ]
     },
     "metadata": {
      "needs_background": "light"
     },
     "output_type": "display_data"
    },
    {
     "name": "stdout",
     "output_type": "stream",
     "text": [
      "\n",
      "Error durante la prueba = 685.3369170531051\n",
      "############# La posición en el vector es.. 3\n",
      "############# El valor es 4\n",
      "Vector de parámetros del modelo:\n",
      "\n",
      "[[-7.13434276e+00]\n",
      " [-1.03631807e-01]\n",
      " [ 2.13797365e+00]\n",
      " [-1.01147876e-01]\n",
      " [ 4.93178319e+00]\n",
      " [ 6.92599853e-01]\n",
      " [-3.27803180e-02]\n",
      " [ 1.38463712e+00]\n",
      " [-1.38278797e-01]\n",
      " [ 2.49998200e-01]\n",
      " [ 2.53459579e-01]\n",
      " [ 4.29632766e+00]\n",
      " [ 3.66979244e+00]\n",
      " [-3.03151041e-03]\n",
      " [-7.36899241e-01]\n",
      " [ 1.84140649e-01]\n",
      " [-3.99106096e+00]\n",
      " [-9.93679734e-01]\n",
      " [ 6.84446040e-02]\n",
      " [-5.76829834e-01]\n",
      " [-2.37760091e-02]\n",
      " [-1.02229990e+00]\n",
      " [-5.18957863e-01]\n",
      " [-3.73526546e+00]\n",
      " [-3.69234358e+00]\n",
      " [ 3.94794245e-02]\n",
      " [-5.46466543e-01]\n",
      " [-5.53073947e-02]\n",
      " [ 2.99226720e+00]\n",
      " [-3.72560394e-01]\n",
      " [ 3.52945851e-02]\n",
      " [-3.81797219e-01]\n",
      " [ 1.50061951e-01]\n",
      " [-1.90809918e-01]\n",
      " [-3.24366218e-03]\n",
      " [ 2.69996335e+00]\n",
      " [ 2.22662202e+00]\n",
      " [-5.79814340e-02]\n",
      " [ 3.74197039e-02]\n",
      " [-5.62161881e-02]\n",
      " [-2.21032789e+00]\n",
      " [ 3.17108610e-01]\n",
      " [-5.58676471e-02]\n",
      " [ 2.52387431e-01]\n",
      " [-2.70326858e-02]\n",
      " [ 7.56316773e-01]\n",
      " [ 3.38944501e-01]\n",
      " [-1.96526066e+00]\n",
      " [-1.85567214e+00]]\n",
      "\n",
      "Error Final durante el entrenamiento = 0.024769645128045525\n"
     ]
    },
    {
     "data": {
      "image/png": "[encoded data removed]",
      "text/plain": [
       "<Figure size 432x288 with 1 Axes>"
      ]
     },
     "metadata": {
      "needs_background": "light"
     },
     "output_type": "display_data"
    },
    {
     "name": "stdout",
     "output_type": "stream",
     "text": [
      "\n",
      "Error durante la prueba = 674.363615996056\n",
      "############# La posición en el vector es.. 4\n",
      "############# El valor es 5\n",
      "Vector de parámetros del modelo:\n",
      "\n",
      "[[-7.13434276e+00]\n",
      " [-1.11352540e-01]\n",
      " [ 1.99280106e+00]\n",
      " [-9.31703778e-02]\n",
      " [ 4.46002642e+00]\n",
      " [ 7.51973996e-01]\n",
      " [-5.93332871e-02]\n",
      " [ 1.30567263e+00]\n",
      " [-1.56625198e-01]\n",
      " [ 4.66273460e-01]\n",
      " [ 2.87892368e-01]\n",
      " [ 3.91485667e+00]\n",
      " [ 3.26172974e+00]\n",
      " [ 8.51209335e-03]\n",
      " [-6.61264596e-01]\n",
      " [ 1.53493383e-01]\n",
      " [-3.57177500e+00]\n",
      " [-8.34164291e-01]\n",
      " [ 1.03073693e-01]\n",
      " [-4.60231980e-01]\n",
      " [-7.01131817e-02]\n",
      " [-8.49191105e-01]\n",
      " [-4.24814903e-01]\n",
      " [-3.30795088e+00]\n",
      " [-3.30996412e+00]\n",
      " [ 2.28826729e-02]\n",
      " [-5.93553389e-01]\n",
      " [-5.25743363e-02]\n",
      " [ 2.65835579e+00]\n",
      " [-4.44209657e-01]\n",
      " [ 7.43640890e-02]\n",
      " [-4.11372966e-01]\n",
      " [ 1.58522566e-01]\n",
      " [-3.91047331e-01]\n",
      " [-5.82098487e-02]\n",
      " [ 2.41793779e+00]\n",
      " [ 1.97827755e+00]\n",
      " [-3.80623946e-02]\n",
      " [-1.71373884e-01]\n",
      " [-3.03094074e-02]\n",
      " [-1.98477193e+00]\n",
      " [-2.20656960e-02]\n",
      " [-1.94103606e-02]\n",
      " [-6.21572587e-02]\n",
      " [-3.60307056e-03]\n",
      " [ 1.61304806e-01]\n",
      " [ 1.43538987e-01]\n",
      " [-1.78314407e+00]\n",
      " [-1.69041931e+00]\n",
      " [ 5.56918592e-02]\n",
      " [ 2.82667924e-01]\n",
      " [-1.15036450e-02]\n",
      " [ 1.43111212e+00]\n",
      " [ 2.32491582e-01]\n",
      " [-8.73638623e-02]\n",
      " [ 2.82009968e-01]\n",
      " [-3.53374163e-03]\n",
      " [ 5.44116027e-01]\n",
      " [ 1.35220205e-01]\n",
      " [ 1.27307773e+00]\n",
      " [ 1.11032236e+00]]\n",
      "\n",
      "Error Final durante el entrenamiento = 0.02818081831937\n"
     ]
    },
    {
     "data": {
      "image/png": "[encoded data removed]",
      "text/plain": [
       "<Figure size 432x288 with 1 Axes>"
      ]
     },
     "metadata": {
      "needs_background": "light"
     },
     "output_type": "display_data"
    },
    {
     "name": "stdout",
     "output_type": "stream",
     "text": [
      "\n",
      "Error durante la prueba = 679.1952705182399\n"
     ]
    }
   ],
   "source": [
    "etaArray = ['1e-5', '1e-5', '1e-5', '1e-5', '1e-5', '1e-3', '1e-3', '1e-3', '1e-3', '1e-3', '1e-1', '1e-1', '1e-1', '1e-1', '1e-1']\n",
    "polGrade = [1,2,3,4,5]\n",
    "sizeEta = len(etaArray)\n",
    "sizePol = len(polGrade)\n",
    "\n",
    "for i in range(sizeEta):\n",
    "    N = np.size(X,0)\n",
    "\n",
    "    # #Se modifica la matriz de datos original de acuerdo al grado del polinomio ingresado para el modelo\n",
    "    grado = polGrade[i%sizePol]\n",
    "    print('############# La posición en el vector es..',i%sizePol)\n",
    "    print('############# El valor es', grado)\n",
    "    X2 = potenciaPolinomio(X,grado)\n",
    "\n",
    "    #Dejamos algunas muestras para el proceso de entrenamiento y otras para evaluar qué tan bueno fue el aprendizaje del modelo\n",
    "    random.seed(1)\n",
    "    ind=np.random.permutation(N)\n",
    "    Xtrain = X2[ind[0:int(math.ceil(0.7*N))],:]\n",
    "    Xtest = X2[ind[int(math.ceil(0.7*N)):N],:]\n",
    "    Ytrain = Y[ind[0:int(math.ceil(0.7*N))]]\n",
    "    Ytest = Y[ind[int(math.ceil(0.7*N)):N]]\n",
    "\n",
    "    #Normalizamos los datos\n",
    "    media = np.mean(Xtrain)\n",
    "    desvia = np.std(Xtrain)\n",
    "    Xtrain = stats.stats.zscore(Xtrain)\n",
    "    Xtest = (Xtest - np.matlib.repmat(media, Xtest.shape[0], 1))/np.matlib.repmat(desvia, Xtest.shape[0], 1)\n",
    "\n",
    "    eta = float(etaArray[i])\n",
    "\n",
    "    #Complete la siguiente línea de código llamando el método gradiente_descendente con sus respectivos argumentos\n",
    "    W = gradiente_descendente(Xtrain,Ytrain,eta)\n",
    "\n",
    "    #Evaluamos las predicciones del modelo con los datos de test\n",
    "    unos = np.array([np.ones(np.size(Xtest,0))])\n",
    "    Xtest = np.concatenate((unos.T, Xtest), axis=1)\n",
    "    Xtest = Xtest.reshape(np.size(Xtest,0),np.size(Xtest,1))\n",
    "    Yest = regression(Xtest, W)\n",
    "    Error = ECM(Yest,Ytest)\n",
    "    print ('\\nError durante la prueba = ' + str(Error))\n",
    "\n"
   ]
  },
  {
   "cell_type": "markdown",
   "metadata": {},
   "source": [
    "Ejecute la siguiente instrucción para dejar guardados en el notebook los resultados de las pruebas."
   ]
  },
  {
   "cell_type": "code",
   "execution_count": 95,
   "metadata": {},
   "outputs": [
    {
     "data": {
      "text/html": [
       "<div>\n",
       "<style scoped>\n",
       "    .dataframe tbody tr th:only-of-type {\n",
       "        vertical-align: middle;\n",
       "    }\n",
       "\n",
       "    .dataframe tbody tr th {\n",
       "        vertical-align: top;\n",
       "    }\n",
       "\n",
       "    .dataframe thead th {\n",
       "        text-align: right;\n",
       "    }\n",
       "</style>\n",
       "<table border=\"1\" class=\"dataframe\">\n",
       "  <thead>\n",
       "    <tr style=\"text-align: right;\">\n",
       "      <th></th>\n",
       "      <th></th>\n",
       "      <th>ECM_Entrenamiento</th>\n",
       "      <th>ECM_Prueba</th>\n",
       "    </tr>\n",
       "    <tr>\n",
       "      <th>Tasa de aprendizaje</th>\n",
       "      <th>Grado del polinomio</th>\n",
       "      <th></th>\n",
       "      <th></th>\n",
       "    </tr>\n",
       "  </thead>\n",
       "  <tbody>\n",
       "    <tr>\n",
       "      <th rowspan=\"5\" valign=\"top\">1e-5</th>\n",
       "      <th>1</th>\n",
       "      <td>774.055</td>\n",
       "      <td>703.376</td>\n",
       "    </tr>\n",
       "    <tr>\n",
       "      <th>2</th>\n",
       "      <td></td>\n",
       "      <td></td>\n",
       "    </tr>\n",
       "    <tr>\n",
       "      <th>3</th>\n",
       "      <td></td>\n",
       "      <td></td>\n",
       "    </tr>\n",
       "    <tr>\n",
       "      <th>4</th>\n",
       "      <td></td>\n",
       "      <td></td>\n",
       "    </tr>\n",
       "    <tr>\n",
       "      <th>5</th>\n",
       "      <td></td>\n",
       "      <td></td>\n",
       "    </tr>\n",
       "    <tr>\n",
       "      <th rowspan=\"5\" valign=\"top\">1e-3</th>\n",
       "      <th>1</th>\n",
       "      <td></td>\n",
       "      <td></td>\n",
       "    </tr>\n",
       "    <tr>\n",
       "      <th>2</th>\n",
       "      <td></td>\n",
       "      <td></td>\n",
       "    </tr>\n",
       "    <tr>\n",
       "      <th>3</th>\n",
       "      <td></td>\n",
       "      <td></td>\n",
       "    </tr>\n",
       "    <tr>\n",
       "      <th>4</th>\n",
       "      <td></td>\n",
       "      <td></td>\n",
       "    </tr>\n",
       "    <tr>\n",
       "      <th>5</th>\n",
       "      <td></td>\n",
       "      <td></td>\n",
       "    </tr>\n",
       "    <tr>\n",
       "      <th rowspan=\"5\" valign=\"top\">1e-1</th>\n",
       "      <th>1</th>\n",
       "      <td></td>\n",
       "      <td></td>\n",
       "    </tr>\n",
       "    <tr>\n",
       "      <th>2</th>\n",
       "      <td></td>\n",
       "      <td></td>\n",
       "    </tr>\n",
       "    <tr>\n",
       "      <th>3</th>\n",
       "      <td></td>\n",
       "      <td></td>\n",
       "    </tr>\n",
       "    <tr>\n",
       "      <th>4</th>\n",
       "      <td></td>\n",
       "      <td></td>\n",
       "    </tr>\n",
       "    <tr>\n",
       "      <th>5</th>\n",
       "      <td></td>\n",
       "      <td></td>\n",
       "    </tr>\n",
       "  </tbody>\n",
       "</table>\n",
       "</div>"
      ],
      "text/plain": [
       "                                        ECM_Entrenamiento ECM_Prueba\n",
       "Tasa de aprendizaje Grado del polinomio                             \n",
       "1e-5                1                             774.055    703.376\n",
       "                    2                                               \n",
       "                    3                                               \n",
       "                    4                                               \n",
       "                    5                                               \n",
       "1e-3                1                                               \n",
       "                    2                                               \n",
       "                    3                                               \n",
       "                    4                                               \n",
       "                    5                                               \n",
       "1e-1                1                                               \n",
       "                    2                                               \n",
       "                    3                                               \n",
       "                    4                                               \n",
       "                    5                                               "
      ]
     },
     "execution_count": 95,
     "metadata": {},
     "output_type": "execute_result"
    }
   ],
   "source": [
    "qgrid_widget.get_changed_df()"
   ]
  },
  {
   "cell_type": "markdown",
   "metadata": {},
   "source": [
    "## Ejercicio 5: Pruebas\n",
    "\n",
    "En la celda de código del Ejercicio # 3, comente la línea donde se normalizan las matrices de datos Xtrain y Xtest. Realice pruebas para diferentes valores de $\\eta$ y de grado del polinomio de manera similar a los valores que usó en el punto 3. Observe que pasa con el ECM.\n",
    "\n",
    "#### Responda\n",
    "\n",
    "4.1 Qué sucede con los valores del ECM?\n",
    "\n"
   ]
  },
  {
   "cell_type": "code",
   "execution_count": null,
   "metadata": {},
   "outputs": [],
   "source": []
  },
  {
   "cell_type": "markdown",
   "metadata": {},
   "source": [
    "4.2 A qué se debe lo que observa?\n"
   ]
  },
  {
   "cell_type": "code",
   "execution_count": null,
   "metadata": {},
   "outputs": [],
   "source": []
  },
  {
   "cell_type": "markdown",
   "metadata": {},
   "source": [
    "4.3 ¿Qu&eacute; proceso hace la normalizaci&oacute;n sobre los datos? Consulte por qu&eacute; es necesaria la normalizaci&oacute;n en el modelo de regresi&oacute;n log&iacute;stica y cu&aacute;les son los tipos de normalizaci&oacute;n m&aacute;s comunes. ¿Cu&aacute;l de ellos se aplic&oacute; en el laboratorio?"
   ]
  },
  {
   "cell_type": "code",
   "execution_count": null,
   "metadata": {},
   "outputs": [],
   "source": []
  }
 ],
 "metadata": {
  "kernelspec": {
   "display_name": "Python 3",
   "language": "python",
   "name": "python3"
  },
  "language_info": {
   "codemirror_mode": {
    "name": "ipython",
    "version": 3
   },
   "file_extension": ".py",
   "mimetype": "text/x-python",
   "name": "python",
   "nbconvert_exporter": "python",
   "pygments_lexer": "ipython3",
   "version": "3.7.3"
  }
 },
 "nbformat": 4,
 "nbformat_minor": 2
}
